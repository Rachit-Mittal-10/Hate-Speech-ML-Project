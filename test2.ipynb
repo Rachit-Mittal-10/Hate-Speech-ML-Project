{
 "cells": [
  {
   "cell_type": "code",
   "execution_count": 7,
   "metadata": {},
   "outputs": [],
   "source": [
    "import pickle\n",
    "import numpy as np"
   ]
  },
  {
   "cell_type": "code",
   "execution_count": 3,
   "metadata": {},
   "outputs": [],
   "source": [
    "from sklearn.feature_extraction.text import CountVectorizer\n",
    "cv = CountVectorizer()"
   ]
  },
  {
   "cell_type": "code",
   "execution_count": 4,
   "metadata": {},
   "outputs": [],
   "source": [
    "with open(\"NN_model\",\"rb\") as f:\n",
    "    model2 = pickle.load(f)\n",
    "    \n",
    "with open(\"NN_vocabulary\",\"rb\") as f:\n",
    "    cv.vocabulary_ = pickle.load(f)"
   ]
  },
  {
   "cell_type": "code",
   "execution_count": 5,
   "metadata": {},
   "outputs": [
    {
     "name": "stdout",
     "output_type": "stream",
     "text": [
      "1/1 [==============================] - 0s 426ms/step\n"
     ]
    }
   ],
   "source": [
    "tweet_test = [\n",
    "    \"I Love You. You are most beautiful girl I've dated\",\n",
    "    \"Fuck You, Bitch.\",\n",
    "    \"Kill all the Africans. Fucking Black Rats.\"\n",
    "    ]\n",
    "tweet_test = cv.transform(tweet_test)\n",
    "y_hat = model2.predict(tweet_test)"
   ]
  },
  {
   "cell_type": "code",
   "execution_count": 6,
   "metadata": {},
   "outputs": [
    {
     "data": {
      "text/plain": [
       "array([[6.2441040e-04, 4.2460373e-01, 5.7477188e-01],\n",
       "       [9.4665535e-04, 9.9905008e-01, 3.1926088e-06],\n",
       "       [4.7758806e-01, 5.2097929e-01, 1.4326902e-03]], dtype=float32)"
      ]
     },
     "execution_count": 6,
     "metadata": {},
     "output_type": "execute_result"
    }
   ],
   "source": [
    "y_hat"
   ]
  },
  {
   "cell_type": "code",
   "execution_count": 10,
   "metadata": {},
   "outputs": [],
   "source": [
    "length = len(y_hat)\n",
    "output = np.zeros(length)\n",
    "for i in range(length):\n",
    "    output[i] = np.argmax(y_hat[i])"
   ]
  },
  {
   "cell_type": "code",
   "execution_count": 22,
   "metadata": {},
   "outputs": [],
   "source": [
    "mp = dict({\n",
    "    0: \"Hate Speech\",\n",
    "    1 : \"Offensive Language\",\n",
    "    2: \"Neither Offensive Nor Hate Speech\"\n",
    "})"
   ]
  },
  {
   "cell_type": "code",
   "execution_count": 24,
   "metadata": {},
   "outputs": [
    {
     "name": "stdout",
     "output_type": "stream",
     "text": [
      "Neither Offensive Nor Hate Speech\n",
      "Offensive Language\n",
      "Offensive Language\n"
     ]
    }
   ],
   "source": [
    "for i in output:\n",
    "    print(mp[i])"
   ]
  },
  {
   "cell_type": "code",
   "execution_count": null,
   "metadata": {},
   "outputs": [],
   "source": []
  }
 ],
 "metadata": {
  "kernelspec": {
   "display_name": "Python 3.10.4 64-bit",
   "language": "python",
   "name": "python3"
  },
  "language_info": {
   "codemirror_mode": {
    "name": "ipython",
    "version": 3
   },
   "file_extension": ".py",
   "mimetype": "text/x-python",
   "name": "python",
   "nbconvert_exporter": "python",
   "pygments_lexer": "ipython3",
   "version": "3.10.4"
  },
  "orig_nbformat": 4,
  "vscode": {
   "interpreter": {
    "hash": "54f608d40bc892765a9bc926280063d5e5edef1d8f98b4c42d459b1f6e8f3d9e"
   }
  }
 },
 "nbformat": 4,
 "nbformat_minor": 2
}
