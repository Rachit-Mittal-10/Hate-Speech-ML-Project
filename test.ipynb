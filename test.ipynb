{
 "cells": [
  {
   "cell_type": "code",
   "execution_count": 5,
   "metadata": {},
   "outputs": [],
   "source": [
    "import pickle"
   ]
  },
  {
   "cell_type": "code",
   "execution_count": 6,
   "metadata": {},
   "outputs": [],
   "source": [
    "\n",
    "with open(\"decision_tree_model\",\"rb\") as f:\n",
    "    model1 = pickle.load(f)\n",
    "    \n",
    "with open(\"decision_tree_vocab\",\"rb\") as f:\n",
    "    vocabulary_ = pickle.load(f)"
   ]
  },
  {
   "cell_type": "code",
   "execution_count": 7,
   "metadata": {},
   "outputs": [],
   "source": [
    "from sklearn.feature_extraction.text import CountVectorizer\n",
    "cv = CountVectorizer()"
   ]
  },
  {
   "cell_type": "code",
   "execution_count": 8,
   "metadata": {},
   "outputs": [],
   "source": [
    "cv.vocabulary_ = vocabulary_"
   ]
  },
  {
   "cell_type": "code",
   "execution_count": 9,
   "metadata": {},
   "outputs": [],
   "source": [
    "tweet_test = [\n",
    "    \"I Love You. You are most beautiful girl I've dated\",\n",
    "    \"Fuck You, Bitch.\",\n",
    "    \"Kill all the Africans. Fucking Black Rats.\"\n",
    "    ]\n",
    "tweet_test = cv.transform(tweet_test)\n",
    "y_hat_ = model1.predict(tweet_test)"
   ]
  },
  {
   "cell_type": "code",
   "execution_count": 10,
   "metadata": {},
   "outputs": [
    {
     "data": {
      "text/plain": [
       "array(['Neither Hate Nor Offensive', 'Offensive Language',\n",
       "       'Neither Hate Nor Offensive'], dtype=object)"
      ]
     },
     "execution_count": 10,
     "metadata": {},
     "output_type": "execute_result"
    }
   ],
   "source": [
    "y_hat_"
   ]
  },
  {
   "cell_type": "code",
   "execution_count": 13,
   "metadata": {},
   "outputs": [
    {
     "name": "stdout",
     "output_type": "stream",
     "text": [
      "Neither Hate Nor Offensive\n",
      "Offensive Language\n",
      "Neither Hate Nor Offensive\n"
     ]
    }
   ],
   "source": [
    "for i in y_hat_:\n",
    "    print(i)"
   ]
  },
  {
   "cell_type": "code",
   "execution_count": null,
   "metadata": {},
   "outputs": [],
   "source": []
  }
 ],
 "metadata": {
  "kernelspec": {
   "display_name": "Python 3.10.4 64-bit",
   "language": "python",
   "name": "python3"
  },
  "language_info": {
   "codemirror_mode": {
    "name": "ipython",
    "version": 3
   },
   "file_extension": ".py",
   "mimetype": "text/x-python",
   "name": "python",
   "nbconvert_exporter": "python",
   "pygments_lexer": "ipython3",
   "version": "3.10.4"
  },
  "orig_nbformat": 4,
  "vscode": {
   "interpreter": {
    "hash": "54f608d40bc892765a9bc926280063d5e5edef1d8f98b4c42d459b1f6e8f3d9e"
   }
  }
 },
 "nbformat": 4,
 "nbformat_minor": 2
}
