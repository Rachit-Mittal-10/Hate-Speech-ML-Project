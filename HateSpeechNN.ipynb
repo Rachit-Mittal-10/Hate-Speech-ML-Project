{
 "cells": [
  {
   "cell_type": "code",
   "execution_count": 1,
   "metadata": {},
   "outputs": [],
   "source": [
    "import pandas as pd\n",
    "import numpy as np\n",
    "import matplotlib.pyplot as plt\n",
    "import re\n",
    "import nltk\n",
    "from nltk.corpus import stopwords\n",
    "import string\n",
    "from sklearn.model_selection import train_test_split\n",
    "from sklearn.metrics import confusion_matrix\n",
    "import seaborn as sn\n",
    "import tensorflow as tf"
   ]
  },
  {
   "cell_type": "code",
   "execution_count": 2,
   "metadata": {},
   "outputs": [
    {
     "data": {
      "text/plain": [
       "(24783, 2)"
      ]
     },
     "execution_count": 2,
     "metadata": {},
     "output_type": "execute_result"
    }
   ],
   "source": [
    "dataset = pd.read_csv(\"labeled_data.csv\")\n",
    "dataset[\"labels\"] = dataset[\"class\"].map({\n",
    "    0: \"Hate Speech\",\n",
    "    1: \"Offensive Language\",\n",
    "    2: \"Neither Hate Nor Offensive\"\n",
    "})\n",
    "data = dataset[[\"tweet\",\"class\"]]\n",
    "data.shape"
   ]
  },
  {
   "cell_type": "code",
   "execution_count": 3,
   "metadata": {},
   "outputs": [],
   "source": [
    "set_stopwords = set(stopwords.words(\"English\"))"
   ]
  },
  {
   "cell_type": "code",
   "execution_count": 4,
   "metadata": {},
   "outputs": [],
   "source": [
    "stemmer = nltk.SnowballStemmer(language = \"english\")"
   ]
  },
  {
   "cell_type": "code",
   "execution_count": 5,
   "metadata": {},
   "outputs": [],
   "source": [
    "# DATA CLEANING\n",
    "def clean_tweet(tweet):\n",
    "    tweet = tweet.lower()\n",
    "    tweet = re.sub(\"https?://\\S+|www.\\S+\",'',tweet)\n",
    "    tweet = re.sub('\\[.?\\]','',tweet)\n",
    "    tweet = re.sub(\"\\[%s\\]\"%re.escape(string.punctuation),'',tweet)\n",
    "    tweet = re.sub('\\n','',tweet)\n",
    "    tweet = re.sub('\\w\\d\\w','',tweet)\n",
    "    tweet = [word for word in tweet.split(' ') if word not in set_stopwords]\n",
    "    tweet = \" \".join(tweet)\n",
    "    tweet = [stemmer.stem(word) for word in tweet.split(' ')]\n",
    "    tweet = \" \".join(tweet)\n",
    "    return tweet"
   ]
  },
  {
   "cell_type": "code",
   "execution_count": 6,
   "metadata": {},
   "outputs": [],
   "source": [
    "data.loc[:,\"tweet\"] = data.loc[:,\"tweet\"].apply(clean_tweet) "
   ]
  },
  {
   "cell_type": "code",
   "execution_count": 7,
   "metadata": {},
   "outputs": [
    {
     "data": {
      "text/plain": [
       "array([2, 1, 1, ..., 1, 1, 2], dtype=int64)"
      ]
     },
     "execution_count": 7,
     "metadata": {},
     "output_type": "execute_result"
    }
   ],
   "source": [
    "X = np.array(data[\"tweet\"])\n",
    "Y = np.array(data[\"class\"])\n",
    "Y"
   ]
  },
  {
   "cell_type": "code",
   "execution_count": 8,
   "metadata": {},
   "outputs": [],
   "source": [
    "from sklearn.feature_extraction.text import CountVectorizer"
   ]
  },
  {
   "cell_type": "code",
   "execution_count": 9,
   "metadata": {},
   "outputs": [],
   "source": [
    "cv = CountVectorizer()\n",
    "X = cv.fit_transform(X)"
   ]
  },
  {
   "cell_type": "code",
   "execution_count": 10,
   "metadata": {},
   "outputs": [],
   "source": [
    "X_train,X_test,Y_train,Y_test = train_test_split(X,Y,test_size = 0.25, random_state = 55)"
   ]
  },
  {
   "cell_type": "code",
   "execution_count": 12,
   "metadata": {},
   "outputs": [],
   "source": [
    "from tensorflow.keras.utils import to_categorical\n",
    "\n",
    "# Convert class labels to one-hot encoded format\n",
    "Y_train = to_categorical(Y_train, num_classes=3)\n",
    "Y_test = to_categorical(Y_test, num_classes=3)"
   ]
  },
  {
   "cell_type": "code",
   "execution_count": 14,
   "metadata": {},
   "outputs": [],
   "source": [
    "from tensorflow.keras.models import Sequential\n",
    "from tensorflow.keras.layers import Dense"
   ]
  },
  {
   "cell_type": "code",
   "execution_count": 15,
   "metadata": {},
   "outputs": [
    {
     "data": {
      "text/plain": [
       "scipy.sparse._csr.csr_matrix"
      ]
     },
     "execution_count": 15,
     "metadata": {},
     "output_type": "execute_result"
    }
   ],
   "source": [
    "X_train\n",
    "type(X_train)"
   ]
  },
  {
   "cell_type": "code",
   "execution_count": 16,
   "metadata": {},
   "outputs": [],
   "source": [
    "model = Sequential([\n",
    "    Dense(units = 100, activation = \"relu\"),\n",
    "    Dense(units = 50, activation = \"relu\"),\n",
    "    Dense(units = 10, activation = \"relu\"),\n",
    "    Dense(units = 3, activation = 'softmax')\n",
    "])"
   ]
  },
  {
   "cell_type": "code",
   "execution_count": 17,
   "metadata": {},
   "outputs": [
    {
     "data": {
      "text/plain": [
       "<keras.src.engine.sequential.Sequential at 0x17ccacb3790>"
      ]
     },
     "execution_count": 17,
     "metadata": {},
     "output_type": "execute_result"
    }
   ],
   "source": [
    "model"
   ]
  },
  {
   "cell_type": "code",
   "execution_count": 18,
   "metadata": {},
   "outputs": [],
   "source": [
    "from tensorflow.keras.losses import categorical_crossentropy"
   ]
  },
  {
   "cell_type": "code",
   "execution_count": 19,
   "metadata": {},
   "outputs": [],
   "source": [
    "model.compile(loss = 'categorical_crossentropy',optimizer = 'adam',metrics = ['accuracy'])"
   ]
  },
  {
   "cell_type": "code",
   "execution_count": 20,
   "metadata": {},
   "outputs": [
    {
     "data": {
      "text/plain": [
       "<bound method Model.summary of <keras.src.engine.sequential.Sequential object at 0x0000017CCACB3790>>"
      ]
     },
     "execution_count": 20,
     "metadata": {},
     "output_type": "execute_result"
    }
   ],
   "source": [
    "model.summary"
   ]
  },
  {
   "cell_type": "code",
   "execution_count": 21,
   "metadata": {},
   "outputs": [],
   "source": [
    "def convert_sparse_matrix_to_sparse_tensor(X):\n",
    "    coo = X.tocoo()\n",
    "    indices = np.mat([coo.row, coo.col]).transpose()\n",
    "    return tf.SparseTensor(indices, coo.data, coo.shape)\n",
    "X_train = convert_sparse_matrix_to_sparse_tensor(X_train)\n"
   ]
  },
  {
   "cell_type": "code",
   "execution_count": 22,
   "metadata": {},
   "outputs": [
    {
     "data": {
      "text/plain": [
       "tensorflow.python.framework.sparse_tensor.SparseTensor"
      ]
     },
     "execution_count": 22,
     "metadata": {},
     "output_type": "execute_result"
    }
   ],
   "source": [
    "X_train = tf.sparse.reorder(X_train)\n",
    "type(X_train)"
   ]
  },
  {
   "cell_type": "code",
   "execution_count": 23,
   "metadata": {},
   "outputs": [
    {
     "name": "stdout",
     "output_type": "stream",
     "text": [
      "Epoch 1/25\n",
      "186/186 [==============================] - 11s 48ms/step - loss: 0.4966 - accuracy: 0.8458\n",
      "Epoch 2/25\n",
      "186/186 [==============================] - 9s 47ms/step - loss: 0.2002 - accuracy: 0.9297\n",
      "Epoch 3/25\n",
      "186/186 [==============================] - 8s 43ms/step - loss: 0.0902 - accuracy: 0.9701\n",
      "Epoch 4/25\n",
      "186/186 [==============================] - 8s 44ms/step - loss: 0.0368 - accuracy: 0.9889\n",
      "Epoch 5/25\n",
      "186/186 [==============================] - 8s 44ms/step - loss: 0.0187 - accuracy: 0.9940\n",
      "Epoch 6/25\n",
      "186/186 [==============================] - 8s 42ms/step - loss: 0.0114 - accuracy: 0.9969\n",
      "Epoch 7/25\n",
      "186/186 [==============================] - 9s 46ms/step - loss: 0.0073 - accuracy: 0.9978\n",
      "Epoch 8/25\n",
      "186/186 [==============================] - 10s 52ms/step - loss: 0.0049 - accuracy: 0.9984\n",
      "Epoch 9/25\n",
      "186/186 [==============================] - 11s 56ms/step - loss: 0.0041 - accuracy: 0.9988\n",
      "Epoch 10/25\n",
      "186/186 [==============================] - 9s 48ms/step - loss: 0.0033 - accuracy: 0.9989\n",
      "Epoch 11/25\n",
      "186/186 [==============================] - 9s 51ms/step - loss: 0.0032 - accuracy: 0.9990\n",
      "Epoch 12/25\n",
      "186/186 [==============================] - 8s 44ms/step - loss: 0.0026 - accuracy: 0.9992\n",
      "Epoch 13/25\n",
      "186/186 [==============================] - 8s 41ms/step - loss: 0.0021 - accuracy: 0.9992\n",
      "Epoch 14/25\n",
      "186/186 [==============================] - 7s 39ms/step - loss: 0.0024 - accuracy: 0.9992\n",
      "Epoch 15/25\n",
      "186/186 [==============================] - 7s 38ms/step - loss: 0.0021 - accuracy: 0.9992\n",
      "Epoch 16/25\n",
      "186/186 [==============================] - 7s 38ms/step - loss: 0.0020 - accuracy: 0.9993\n",
      "Epoch 17/25\n",
      "186/186 [==============================] - 7s 38ms/step - loss: 0.0026 - accuracy: 0.9991\n",
      "Epoch 18/25\n",
      "186/186 [==============================] - 8s 40ms/step - loss: 0.0022 - accuracy: 0.9993\n",
      "Epoch 19/25\n",
      "186/186 [==============================] - 8s 42ms/step - loss: 0.0022 - accuracy: 0.9993\n",
      "Epoch 20/25\n",
      "186/186 [==============================] - 7s 40ms/step - loss: 0.0020 - accuracy: 0.9993\n",
      "Epoch 21/25\n",
      "186/186 [==============================] - 8s 44ms/step - loss: 0.0019 - accuracy: 0.9992\n",
      "Epoch 22/25\n",
      "186/186 [==============================] - 8s 40ms/step - loss: 0.0019 - accuracy: 0.9995\n",
      "Epoch 23/25\n",
      "186/186 [==============================] - 8s 41ms/step - loss: 0.0070 - accuracy: 0.9976\n",
      "Epoch 24/25\n",
      "186/186 [==============================] - 8s 42ms/step - loss: 0.0138 - accuracy: 0.9954\n",
      "Epoch 25/25\n",
      "186/186 [==============================] - 8s 42ms/step - loss: 0.0068 - accuracy: 0.9977\n"
     ]
    },
    {
     "data": {
      "text/plain": [
       "<keras.src.callbacks.History at 0x17ccaf1da20>"
      ]
     },
     "execution_count": 23,
     "metadata": {},
     "output_type": "execute_result"
    }
   ],
   "source": [
    "model.fit(X_train,Y_train,epochs = 25, batch_size = 100)"
   ]
  },
  {
   "cell_type": "code",
   "execution_count": 24,
   "metadata": {},
   "outputs": [],
   "source": [
    "X_test = convert_sparse_matrix_to_sparse_tensor(X_test)"
   ]
  },
  {
   "cell_type": "code",
   "execution_count": 25,
   "metadata": {},
   "outputs": [],
   "source": [
    "X_test = tf.sparse.reorder(X_test)"
   ]
  },
  {
   "cell_type": "code",
   "execution_count": 26,
   "metadata": {},
   "outputs": [
    {
     "name": "stdout",
     "output_type": "stream",
     "text": [
      "194/194 [==============================] - 0s 2ms/step\n"
     ]
    }
   ],
   "source": [
    "Y_pred = model.predict(X_test)"
   ]
  },
  {
   "cell_type": "code",
   "execution_count": 27,
   "metadata": {},
   "outputs": [],
   "source": [
    "from sklearn.metrics import accuracy_score"
   ]
  },
  {
   "cell_type": "code",
   "execution_count": 28,
   "metadata": {},
   "outputs": [
    {
     "data": {
      "text/plain": [
       "array([[8.0463215e-06, 9.9907398e-01, 9.1791496e-04],\n",
       "       [4.1175008e-06, 9.9999583e-01, 4.9176933e-08],\n",
       "       [1.6077580e-07, 9.9994004e-01, 5.9834947e-05],\n",
       "       ...,\n",
       "       [2.7787790e-05, 9.9997187e-01, 3.5029674e-07],\n",
       "       [4.4527559e-09, 9.9999940e-01, 5.7463910e-07],\n",
       "       [1.4022969e-12, 1.0000000e+00, 2.7620293e-09]], dtype=float32)"
      ]
     },
     "execution_count": 28,
     "metadata": {},
     "output_type": "execute_result"
    }
   ],
   "source": [
    "Y_pred"
   ]
  },
  {
   "cell_type": "code",
   "execution_count": 29,
   "metadata": {},
   "outputs": [
    {
     "data": {
      "text/plain": [
       "array([[0., 1., 0.],\n",
       "       [0., 1., 0.],\n",
       "       [0., 1., 0.],\n",
       "       ...,\n",
       "       [0., 1., 0.],\n",
       "       [0., 1., 0.],\n",
       "       [0., 1., 0.]], dtype=float32)"
      ]
     },
     "execution_count": 29,
     "metadata": {},
     "output_type": "execute_result"
    }
   ],
   "source": [
    "Y_test"
   ]
  },
  {
   "cell_type": "code",
   "execution_count": 30,
   "metadata": {},
   "outputs": [],
   "source": [
    "length = len(Y_pred)\n",
    "output = np.zeros(length)\n",
    "test = np.zeros(length)\n",
    "for i in range(length):\n",
    "    output[i] = np.argmax(Y_pred[i])\n",
    "    test[i] = np.argmax(Y_test[i])"
   ]
  },
  {
   "cell_type": "code",
   "execution_count": 31,
   "metadata": {},
   "outputs": [
    {
     "data": {
      "text/plain": [
       "array([1., 1., 1., ..., 1., 1., 1.])"
      ]
     },
     "execution_count": 31,
     "metadata": {},
     "output_type": "execute_result"
    }
   ],
   "source": [
    "output"
   ]
  },
  {
   "cell_type": "code",
   "execution_count": 32,
   "metadata": {},
   "outputs": [
    {
     "data": {
      "text/plain": [
       "array([1., 1., 1., ..., 1., 1., 1.])"
      ]
     },
     "execution_count": 32,
     "metadata": {},
     "output_type": "execute_result"
    }
   ],
   "source": [
    "test"
   ]
  },
  {
   "cell_type": "code",
   "execution_count": 33,
   "metadata": {},
   "outputs": [
    {
     "name": "stdout",
     "output_type": "stream",
     "text": [
      "0.8847643641058748\n"
     ]
    }
   ],
   "source": [
    "print(accuracy_score(output,test))"
   ]
  },
  {
   "cell_type": "code",
   "execution_count": 34,
   "metadata": {},
   "outputs": [
    {
     "data": {
      "text/plain": [
       "Text(0.5, 3.722222222222216, 'Truth')"
      ]
     },
     "execution_count": 34,
     "metadata": {},
     "output_type": "execute_result"
    },
    {
     "data": {
      "image/png": "[encoded data removed]",
      "text/plain": [
       "<Figure size 300x300 with 2 Axes>"
      ]
     },
     "metadata": {},
     "output_type": "display_data"
    }
   ],
   "source": [
    "cm  = confusion_matrix(output,test)\n",
    "plt.figure(figsize = (3,3))\n",
    "sn.heatmap(cm,annot = True)\n",
    "plt.ylabel(\"Predicted\")\n",
    "plt.xlabel(\"Truth\")"
   ]
  },
  {
   "cell_type": "code",
   "execution_count": 35,
   "metadata": {},
   "outputs": [
    {
     "data": {
      "text/plain": [
       "array([[ 119,  191,   19],\n",
       "       [ 175, 4546,  185],\n",
       "       [  20,  124,  817]], dtype=int64)"
      ]
     },
     "execution_count": 35,
     "metadata": {},
     "output_type": "execute_result"
    }
   ],
   "source": [
    "cm"
   ]
  },
  {
   "cell_type": "code",
   "execution_count": 36,
   "metadata": {},
   "outputs": [],
   "source": [
    "import pickle"
   ]
  },
  {
   "cell_type": "code",
   "execution_count": 37,
   "metadata": {},
   "outputs": [],
   "source": [
    "with open(\"NN_model\",\"wb\") as f:\n",
    "    pickle.dump(model,f)"
   ]
  },
  {
   "cell_type": "code",
   "execution_count": 38,
   "metadata": {},
   "outputs": [],
   "source": [
    "with open(\"NN_vocabulary\",\"wb\") as f:\n",
    "    pickle.dump(cv.vocabulary_,f)"
   ]
  },
  {
   "cell_type": "code",
   "execution_count": null,
   "metadata": {},
   "outputs": [],
   "source": []
  }
 ],
 "metadata": {
  "kernelspec": {
   "display_name": "Python 3.10.4 64-bit",
   "language": "python",
   "name": "python3"
  },
  "language_info": {
   "codemirror_mode": {
    "name": "ipython",
    "version": 3
   },
   "file_extension": ".py",
   "mimetype": "text/x-python",
   "name": "python",
   "nbconvert_exporter": "python",
   "pygments_lexer": "ipython3",
   "version": "3.10.4"
  },
  "orig_nbformat": 4,
  "vscode": {
   "interpreter": {
    "hash": "54f608d40bc892765a9bc926280063d5e5edef1d8f98b4c42d459b1f6e8f3d9e"
   }
  }
 },
 "nbformat": 4,
 "nbformat_minor": 2
}
